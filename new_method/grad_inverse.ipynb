{
  "nbformat": 4,
  "nbformat_minor": 0,
  "metadata": {
    "colab": {
      "name": "grad_inverse",
      "provenance": [],
      "collapsed_sections": []
    },
    "kernelspec": {
      "name": "python3",
      "display_name": "Python 3"
    }
  },
  "cells": [
    {
      "cell_type": "markdown",
      "metadata": {
        "id": "GQ-tN3yVZKv9",
        "colab_type": "text"
      },
      "source": [
        "Written by Dr. Jonathan Terhorst"
      ]
    },
    {
      "cell_type": "code",
      "metadata": {
        "id": "2mj_iq5wxTve",
        "colab_type": "code",
        "colab": {}
      },
      "source": [
        "import tensorflow as tf\n",
        "import numpy as np"
      ],
      "execution_count": null,
      "outputs": []
    },
    {
      "cell_type": "markdown",
      "metadata": {
        "id": "f0PplsRaxpYm",
        "colab_type": "text"
      },
      "source": [
        ""
      ]
    },
    {
      "cell_type": "code",
      "metadata": {
        "id": "vpZ-qP6RxIMj",
        "colab_type": "code",
        "colab": {
          "base_uri": "https://localhost:8080/",
          "height": 34
        },
        "outputId": "bb055d62-77d0-446c-925a-ca6e086e9ea6"
      },
      "source": [
        "def reloid(x):\n",
        "  '(sigma(x[1]), ..., sigma(x[-2]), relu(x[-1])'\n",
        "  return tf.concat([\n",
        "    tf.nn.sigmoid(x[:-1]),\n",
        "    tf.nn.relu(x[-1:])\n",
        "  ], axis=0)\n",
        "\n",
        "def R(x, theta):\n",
        "  '''\n",
        "  x: scalar\n",
        "  theta: (3, H)\n",
        "  '''\n",
        "  w, v, b = theta[..., None]  # convert to vectors\n",
        "  ew, ev = tf.math.exp([w, v])\n",
        "  x = tf.reshape(x, (1, 1))\n",
        "  v0 = tf.transpose(ev) @ reloid(b)\n",
        "  return tf.transpose(ev) @ reloid(ew @ x + b) - v0\n",
        "\n",
        "def Rinv(y, theta):\n",
        "  w, v, b = theta[..., None]  # convert to vectors\n",
        "  x_left = 0\n",
        "  # as x -> oo, R is asymyptotic to exp(v[-1] + w[-1]) x\n",
        "  # fixme: calculate this exactly.\n",
        "  x_right = 10 * tf.math.exp(w[-1] + v[-1])\n",
        "  tf.debugging.assert_greater(R(x_right, theta), y)\n",
        "  for i in range(50):\n",
        "    x_i = (x_left + x_right) / 2.\n",
        "    y_i = R(x_i, theta)\n",
        "    left = tf.cast(y_i < y, dtype=float)\n",
        "    x_left = left * x_i + (1. - left) * x_left\n",
        "    x_right = (1. - left) * x_i + left * x_right\n",
        "  return x_i\n",
        "\n",
        "theta = tf.convert_to_tensor(np.random.rand(3, 10).astype(np.float32))\n",
        "x = 5.\n",
        "y = R(x, theta)\n",
        "x_star = Rinv(y, theta)\n",
        "print(x, x_star)"
      ],
      "execution_count": null,
      "outputs": [
        {
          "output_type": "stream",
          "text": [
            "5.0 tf.Tensor([[5.]], shape=(1, 1), dtype=float32)\n"
          ],
          "name": "stdout"
        }
      ]
    },
    {
      "cell_type": "markdown",
      "metadata": {
        "id": "OvfATKRJ2Alw",
        "colab_type": "text"
      },
      "source": [
        "## Derivative of $R^{-1}$\n",
        "We have $R(R^{-1}(y, \\theta), \\theta) = y.$ Therefore, $$0 = \\frac{\\partial R(R^{-1}(y, \\theta), \\theta)}{\\partial \\theta} = \\left. \\frac{ \\partial R(x,\\theta)}{\\partial x} \\right|_{x=R^{-1}(y,\\theta)} \\times \\frac{\\partial R^{-1}(y,\\theta)}{\\partial \\theta} + \\left.\\frac{\\partial R(x,\\theta)}{\\partial \\theta}\\right|_{x=R^{-1}(y,\\theta)}.$$ Hence,\n",
        "$$\\frac{\\partial R^{-1}(x,\\theta)}{\\partial \\theta} = \\left.-\\frac{\\partial R(x,\\theta)/\\partial \\theta}{\\partial R(x,\\theta)/\\partial x}\\right|_{x=R^{-1}(y,\\theta)}.$$\n",
        "\n"
      ]
    },
    {
      "cell_type": "markdown",
      "metadata": {
        "id": "6K3oBMBoAgia",
        "colab_type": "text"
      },
      "source": [
        "For the derivative w/r/t $y$ we get $$1 = \\frac{\\partial R(R^{-1}(y, \\theta), \\theta)}{\\partial y} = \\left. \\frac{\\partial{R}}{\\partial x} \\right|_{x=R^{-1}(y,\\theta)} \\times \\frac{\\partial R^{-1}(y,\\theta)}{\\partial y}$$"
      ]
    },
    {
      "cell_type": "code",
      "metadata": {
        "id": "8ippYuDk2CEU",
        "colab_type": "code",
        "colab": {
          "base_uri": "https://localhost:8080/",
          "height": 34
        },
        "outputId": "b2ec9820-dfe2-48e2-9ea1-d413017edbec"
      },
      "source": [
        "@tf.custom_gradient\n",
        "def custom_Rinv(y, theta):\n",
        "  x = Rinv(y, theta)\n",
        "  with tf.GradientTape() as g:\n",
        "    g.watch([x, theta])\n",
        "    y = R(x, theta)\n",
        "  dR_dtheta, dR_dx = g.gradient(y, [theta, x])\n",
        "  def grad(dx):\n",
        "    return dx / dR_dx, -dx * dR_dtheta / dR_dx\n",
        "  return x, grad\n",
        "\n",
        "custom_Rinv(tf.constant(5.), theta)"
      ],
      "execution_count": null,
      "outputs": [
        {
          "output_type": "execute_result",
          "data": {
            "text/plain": [
              "<tf.Tensor: shape=(1, 1), dtype=float32, numpy=array([[0.6888485]], dtype=float32)>"
            ]
          },
          "metadata": {
            "tags": []
          },
          "execution_count": 167
        }
      ]
    },
    {
      "cell_type": "code",
      "metadata": {
        "id": "Tg7wTT5t--3I",
        "colab_type": "code",
        "colab": {
          "base_uri": "https://localhost:8080/",
          "height": 391
        },
        "outputId": "79f457c9-e1ac-4379-a7ed-2b65e5531d53"
      },
      "source": [
        "def f(y, theta):\n",
        "  return custom_Rinv(y, theta) ** 3\n",
        "list(tf.test.compute_gradient(f, [tf.constant(1.), theta]))"
      ],
      "execution_count": null,
      "outputs": [
        {
          "output_type": "stream",
          "text": [
            "tf.Tensor([[0.04421389]], shape=(1, 1), dtype=float32)\n",
            "tf.Tensor([[0.04421389]], shape=(1, 1), dtype=float32)\n"
          ],
          "name": "stdout"
        },
        {
          "output_type": "execute_result",
          "data": {
            "text/plain": [
              "[(array([[0.00546339]], dtype=float32),\n",
              "  array([[-3.1790059e-04, -2.5330819e-04, -8.2001847e-04, -2.4853079e-04,\n",
              "          -2.5501815e-04, -4.4931806e-04, -6.0675596e-04, -7.5498206e-04,\n",
              "          -1.9648220e-04, -1.4652527e-03, -3.3134641e-04, -2.7074703e-04,\n",
              "          -8.3309761e-04, -2.5655897e-04, -2.5879024e-04, -4.5377173e-04,\n",
              "          -6.3056935e-04, -7.6361018e-04, -1.9964894e-04, -1.4652526e-03,\n",
              "           1.5377718e-04,  1.3415341e-04,  8.6978725e-05,  1.2126378e-04,\n",
              "           5.1921903e-05,  3.8855134e-05,  1.5877417e-04,  5.6325258e-05,\n",
              "           4.0780418e-05, -0.0000000e+00]], dtype=float32)),\n",
              " (array([[0.00545912]], dtype=float32),\n",
              "  array([[-3.15951154e-04, -2.51340680e-04, -8.18632485e-04,\n",
              "          -2.46393029e-04, -2.55589839e-04, -4.48373583e-04,\n",
              "          -6.05825335e-04, -7.51751882e-04, -1.98313486e-04,\n",
              "          -1.46491209e-03, -3.33064207e-04, -2.70141754e-04,\n",
              "          -8.30448640e-04, -2.57277861e-04, -2.55939085e-04,\n",
              "          -4.50003397e-04, -6.30214287e-04, -7.62578507e-04,\n",
              "          -2.00292547e-04, -1.46491209e-03,  1.55821894e-04,\n",
              "           1.34401489e-04,  8.89412986e-05,  1.20897304e-04,\n",
              "           4.80795243e-05,  4.15602663e-05,  1.58150200e-04,\n",
              "           5.53554819e-05,  3.95229981e-05,  2.96859048e-06]], dtype=float32))]"
            ]
          },
          "metadata": {
            "tags": []
          },
          "execution_count": 168
        }
      ]
    }
  ]
}
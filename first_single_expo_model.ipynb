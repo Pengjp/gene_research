{
 "cells": [
  {
   "cell_type": "code",
   "execution_count": 13,
   "metadata": {},
   "outputs": [
    {
     "data": {
      "image/png": "[encoded data removed]",
      "text/plain": [
       "<Figure size 432x288 with 1 Axes>"
      ]
     },
     "metadata": {},
     "output_type": "display_data"
    }
   ],
   "source": [
    "import seaborn as sns, numpy as np\n",
    "sns.set(); np.random.seed(0)\n",
    "# x = np.random.exponential(size=1000) * 100\n",
    "ax = sns.distplot(x,color='r')\n",
    "sns.set(); np.random.seed(0)\n",
    "y = np.random.exponential(size=1000)\n",
    "ax = sns.distplot(y,color='b')"
   ]
  },
  {
   "cell_type": "code",
   "execution_count": 8,
   "metadata": {},
   "outputs": [],
   "source": [
    "import seaborn as sns, numpy as np\n",
    "from numpy import hstack, zeros, ones\n",
    "from numpy.random import rand, randn, exponential\n",
    "from keras.models import Sequential\n",
    "from keras.layers import Dense, LeakyReLU\n",
    "from matplotlib import pyplot\n",
    "import tensorflow as tf\n",
    "\n",
    "def define_generator(latent_dim, n_outputs=1000):\n",
    "    model = Sequential()\n",
    "    model.add(Dense(500, activation='relu', kernel_initializer='he_uniform', input_dim=latent_dim))\n",
    "    model.add(Dense(n_outputs, activation='relu'))\n",
    "    return model\n",
    "\n",
    "def generate_latent_points(latent_dim, n):\n",
    "    # generate points in the latent space\n",
    "    x_input = randn(latent_dim * n)\n",
    "    # reshape into a batch of inputs for the network\n",
    "    x_input = x_input.reshape(n, latent_dim)\n",
    "    return x_input\n",
    "\n",
    "def generate_real_samples(n):\n",
    "    x = np.zeros((n,1000))\n",
    "    for i in range(n):\n",
    "        x[i] = np.random.exponential(size=1000) * 100\n",
    "    # generate class labels\n",
    "    y = np.ones((n, 1))\n",
    "    return x, y\n",
    "\n",
    "def generate_fake_samples(generator, latent_dim, n):\n",
    "    # generate points in latent space\n",
    "    x_input = generate_latent_points(latent_dim, n)\n",
    "    # predict outputs\n",
    "    X = generator.predict(x_input)\n",
    "    # create class labels\n",
    "    y = zeros((n, 1))\n",
    "    return X, y\n",
    "with tf.device('/device:GPU:1'):\n",
    "    latent_dim = 5\n",
    "\n",
    "    model = define_generator(latent_dim)\n",
    "\n",
    "    x,y=generate_fake_samples(model,latent_dim,1)"
   ]
  },
  {
   "cell_type": "code",
   "execution_count": 10,
   "metadata": {},
   "outputs": [
    {
     "data": {
      "text/plain": [
       "(1, 1000)"
      ]
     },
     "execution_count": 10,
     "metadata": {},
     "output_type": "execute_result"
    }
   ],
   "source": [
    "x.shape"
   ]
  },
  {
   "cell_type": "markdown",
   "metadata": {},
   "source": [
    "## Generate 100 * exp distribution"
   ]
  },
  {
   "cell_type": "code",
   "execution_count": 51,
   "metadata": {},
   "outputs": [
    {
     "name": "stdout",
     "output_type": "stream",
     "text": [
      "1999 0.9900000095367432 0.9100000262260437\n"
     ]
    },
    {
     "name": "stderr",
     "output_type": "stream",
     "text": [
      "/usr/local/lib/python3.6/dist-packages/keras/engine/training.py:297: UserWarning: Discrepancy between trainable weights and collected trainable weights, did you set `model.trainable` without calling `model.compile` after ?\n",
      "  'Discrepancy between trainable weights and collected trainable'\n"
     ]
    },
    {
     "name": "stdout",
     "output_type": "stream",
     "text": [
      "3999 1.0 0.8100000023841858\n"
     ]
    },
    {
     "name": "stderr",
     "output_type": "stream",
     "text": [
      "/usr/local/lib/python3.6/dist-packages/keras/engine/training.py:297: UserWarning: Discrepancy between trainable weights and collected trainable weights, did you set `model.trainable` without calling `model.compile` after ?\n",
      "  'Discrepancy between trainable weights and collected trainable'\n"
     ]
    },
    {
     "name": "stdout",
     "output_type": "stream",
     "text": [
      "5999 0.9900000095367432 0.6800000071525574\n"
     ]
    },
    {
     "name": "stderr",
     "output_type": "stream",
     "text": [
      "/usr/local/lib/python3.6/dist-packages/keras/engine/training.py:297: UserWarning: Discrepancy between trainable weights and collected trainable weights, did you set `model.trainable` without calling `model.compile` after ?\n",
      "  'Discrepancy between trainable weights and collected trainable'\n"
     ]
    },
    {
     "name": "stdout",
     "output_type": "stream",
     "text": [
      "7999 1.0 0.7699999809265137\n"
     ]
    },
    {
     "name": "stderr",
     "output_type": "stream",
     "text": [
      "/usr/local/lib/python3.6/dist-packages/keras/engine/training.py:297: UserWarning: Discrepancy between trainable weights and collected trainable weights, did you set `model.trainable` without calling `model.compile` after ?\n",
      "  'Discrepancy between trainable weights and collected trainable'\n"
     ]
    },
    {
     "name": "stdout",
     "output_type": "stream",
     "text": [
      "9999 1.0 0.949999988079071\n"
     ]
    },
    {
     "name": "stderr",
     "output_type": "stream",
     "text": [
      "/usr/local/lib/python3.6/dist-packages/keras/engine/training.py:297: UserWarning: Discrepancy between trainable weights and collected trainable weights, did you set `model.trainable` without calling `model.compile` after ?\n",
      "  'Discrepancy between trainable weights and collected trainable'\n"
     ]
    },
    {
     "name": "stdout",
     "output_type": "stream",
     "text": [
      "11999 1.0 0.4699999988079071\n"
     ]
    },
    {
     "name": "stderr",
     "output_type": "stream",
     "text": [
      "/usr/local/lib/python3.6/dist-packages/keras/engine/training.py:297: UserWarning: Discrepancy between trainable weights and collected trainable weights, did you set `model.trainable` without calling `model.compile` after ?\n",
      "  'Discrepancy between trainable weights and collected trainable'\n"
     ]
    },
    {
     "name": "stdout",
     "output_type": "stream",
     "text": [
      "13999 0.9100000262260437 0.7400000095367432\n"
     ]
    },
    {
     "name": "stderr",
     "output_type": "stream",
     "text": [
      "/usr/local/lib/python3.6/dist-packages/keras/engine/training.py:297: UserWarning: Discrepancy between trainable weights and collected trainable weights, did you set `model.trainable` without calling `model.compile` after ?\n",
      "  'Discrepancy between trainable weights and collected trainable'\n"
     ]
    },
    {
     "name": "stdout",
     "output_type": "stream",
     "text": [
      "15999 1.0 0.6800000071525574\n"
     ]
    },
    {
     "name": "stderr",
     "output_type": "stream",
     "text": [
      "/usr/local/lib/python3.6/dist-packages/keras/engine/training.py:297: UserWarning: Discrepancy between trainable weights and collected trainable weights, did you set `model.trainable` without calling `model.compile` after ?\n",
      "  'Discrepancy between trainable weights and collected trainable'\n"
     ]
    },
    {
     "name": "stdout",
     "output_type": "stream",
     "text": [
      "17999 0.8899999856948853 0.8799999952316284\n"
     ]
    },
    {
     "name": "stderr",
     "output_type": "stream",
     "text": [
      "/usr/local/lib/python3.6/dist-packages/keras/engine/training.py:297: UserWarning: Discrepancy between trainable weights and collected trainable weights, did you set `model.trainable` without calling `model.compile` after ?\n",
      "  'Discrepancy between trainable weights and collected trainable'\n"
     ]
    },
    {
     "name": "stdout",
     "output_type": "stream",
     "text": [
      "19999 1.0 0.7599999904632568\n"
     ]
    },
    {
     "name": "stderr",
     "output_type": "stream",
     "text": [
      "/usr/local/lib/python3.6/dist-packages/keras/engine/training.py:297: UserWarning: Discrepancy between trainable weights and collected trainable weights, did you set `model.trainable` without calling `model.compile` after ?\n",
      "  'Discrepancy between trainable weights and collected trainable'\n"
     ]
    },
    {
     "name": "stdout",
     "output_type": "stream",
     "text": [
      "21999 0.25 0.9900000095367432\n"
     ]
    },
    {
     "name": "stderr",
     "output_type": "stream",
     "text": [
      "/usr/local/lib/python3.6/dist-packages/keras/engine/training.py:297: UserWarning: Discrepancy between trainable weights and collected trainable weights, did you set `model.trainable` without calling `model.compile` after ?\n",
      "  'Discrepancy between trainable weights and collected trainable'\n"
     ]
    },
    {
     "name": "stdout",
     "output_type": "stream",
     "text": [
      "23999 0.9900000095367432 0.38999998569488525\n"
     ]
    },
    {
     "name": "stderr",
     "output_type": "stream",
     "text": [
      "/usr/local/lib/python3.6/dist-packages/keras/engine/training.py:297: UserWarning: Discrepancy between trainable weights and collected trainable weights, did you set `model.trainable` without calling `model.compile` after ?\n",
      "  'Discrepancy between trainable weights and collected trainable'\n"
     ]
    },
    {
     "name": "stdout",
     "output_type": "stream",
     "text": [
      "25999 0.9300000071525574 0.4099999964237213\n"
     ]
    },
    {
     "name": "stderr",
     "output_type": "stream",
     "text": [
      "/usr/local/lib/python3.6/dist-packages/keras/engine/training.py:297: UserWarning: Discrepancy between trainable weights and collected trainable weights, did you set `model.trainable` without calling `model.compile` after ?\n",
      "  'Discrepancy between trainable weights and collected trainable'\n"
     ]
    },
    {
     "name": "stdout",
     "output_type": "stream",
     "text": [
      "27999 0.9599999785423279 0.28999999165534973\n"
     ]
    },
    {
     "name": "stderr",
     "output_type": "stream",
     "text": [
      "/usr/local/lib/python3.6/dist-packages/keras/engine/training.py:297: UserWarning: Discrepancy between trainable weights and collected trainable weights, did you set `model.trainable` without calling `model.compile` after ?\n",
      "  'Discrepancy between trainable weights and collected trainable'\n"
     ]
    },
    {
     "name": "stdout",
     "output_type": "stream",
     "text": [
      "29999 0.9599999785423279 0.09000000357627869\n"
     ]
    },
    {
     "name": "stderr",
     "output_type": "stream",
     "text": [
      "/usr/local/lib/python3.6/dist-packages/keras/engine/training.py:297: UserWarning: Discrepancy between trainable weights and collected trainable weights, did you set `model.trainable` without calling `model.compile` after ?\n",
      "  'Discrepancy between trainable weights and collected trainable'\n"
     ]
    },
    {
     "name": "stdout",
     "output_type": "stream",
     "text": [
      "31999 0.9900000095367432 0.05999999865889549\n"
     ]
    },
    {
     "name": "stderr",
     "output_type": "stream",
     "text": [
      "/usr/local/lib/python3.6/dist-packages/keras/engine/training.py:297: UserWarning: Discrepancy between trainable weights and collected trainable weights, did you set `model.trainable` without calling `model.compile` after ?\n",
      "  'Discrepancy between trainable weights and collected trainable'\n"
     ]
    },
    {
     "name": "stdout",
     "output_type": "stream",
     "text": [
      "33999 0.9599999785423279 0.10000000149011612\n"
     ]
    },
    {
     "name": "stderr",
     "output_type": "stream",
     "text": [
      "/usr/local/lib/python3.6/dist-packages/keras/engine/training.py:297: UserWarning: Discrepancy between trainable weights and collected trainable weights, did you set `model.trainable` without calling `model.compile` after ?\n",
      "  'Discrepancy between trainable weights and collected trainable'\n"
     ]
    },
    {
     "name": "stdout",
     "output_type": "stream",
     "text": [
      "35999 0.9599999785423279 0.07000000029802322\n"
     ]
    },
    {
     "name": "stderr",
     "output_type": "stream",
     "text": [
      "/usr/local/lib/python3.6/dist-packages/keras/engine/training.py:297: UserWarning: Discrepancy between trainable weights and collected trainable weights, did you set `model.trainable` without calling `model.compile` after ?\n",
      "  'Discrepancy between trainable weights and collected trainable'\n"
     ]
    },
    {
     "name": "stdout",
     "output_type": "stream",
     "text": [
      "37999 0.9900000095367432 0.019999999552965164\n"
     ]
    },
    {
     "name": "stderr",
     "output_type": "stream",
     "text": [
      "/usr/local/lib/python3.6/dist-packages/keras/engine/training.py:297: UserWarning: Discrepancy between trainable weights and collected trainable weights, did you set `model.trainable` without calling `model.compile` after ?\n",
      "  'Discrepancy between trainable weights and collected trainable'\n"
     ]
    },
    {
     "name": "stdout",
     "output_type": "stream",
     "text": [
      "39999 0.9399999976158142 0.07000000029802322\n"
     ]
    },
    {
     "name": "stderr",
     "output_type": "stream",
     "text": [
      "/usr/local/lib/python3.6/dist-packages/keras/engine/training.py:297: UserWarning: Discrepancy between trainable weights and collected trainable weights, did you set `model.trainable` without calling `model.compile` after ?\n",
      "  'Discrepancy between trainable weights and collected trainable'\n"
     ]
    },
    {
     "name": "stdout",
     "output_type": "stream",
     "text": [
      "41999 0.9700000286102295 0.09000000357627869\n"
     ]
    },
    {
     "name": "stderr",
     "output_type": "stream",
     "text": [
      "/usr/local/lib/python3.6/dist-packages/keras/engine/training.py:297: UserWarning: Discrepancy between trainable weights and collected trainable weights, did you set `model.trainable` without calling `model.compile` after ?\n",
      "  'Discrepancy between trainable weights and collected trainable'\n"
     ]
    },
    {
     "name": "stdout",
     "output_type": "stream",
     "text": [
      "43999 0.949999988079071 0.07999999821186066\n"
     ]
    },
    {
     "name": "stderr",
     "output_type": "stream",
     "text": [
      "/usr/local/lib/python3.6/dist-packages/keras/engine/training.py:297: UserWarning: Discrepancy between trainable weights and collected trainable weights, did you set `model.trainable` without calling `model.compile` after ?\n",
      "  'Discrepancy between trainable weights and collected trainable'\n"
     ]
    },
    {
     "name": "stdout",
     "output_type": "stream",
     "text": [
      "45999 0.9800000190734863 0.05000000074505806\n"
     ]
    },
    {
     "name": "stderr",
     "output_type": "stream",
     "text": [
      "/usr/local/lib/python3.6/dist-packages/keras/engine/training.py:297: UserWarning: Discrepancy between trainable weights and collected trainable weights, did you set `model.trainable` without calling `model.compile` after ?\n",
      "  'Discrepancy between trainable weights and collected trainable'\n"
     ]
    },
    {
     "name": "stdout",
     "output_type": "stream",
     "text": [
      "47999 0.9700000286102295 0.09000000357627869\n"
     ]
    },
    {
     "name": "stderr",
     "output_type": "stream",
     "text": [
      "/usr/local/lib/python3.6/dist-packages/keras/engine/training.py:297: UserWarning: Discrepancy between trainable weights and collected trainable weights, did you set `model.trainable` without calling `model.compile` after ?\n",
      "  'Discrepancy between trainable weights and collected trainable'\n"
     ]
    },
    {
     "name": "stdout",
     "output_type": "stream",
     "text": [
      "49999 0.9800000190734863 0.05000000074505806\n"
     ]
    }
   ],
   "source": [
    "# train a generative adversarial network on a one-dimensional function\n",
    "import seaborn as sns, numpy as np\n",
    "from numpy import hstack\n",
    "from numpy import zeros\n",
    "from numpy import ones\n",
    "from numpy.random import rand\n",
    "from numpy.random import randn, exponential\n",
    "from keras.models import Sequential\n",
    "from keras.layers import Dense, LeakyReLU, BatchNormalization\n",
    "from matplotlib import pyplot\n",
    "import tensorflow as tf\n",
    "from numpy.random import random, choice\n",
    "# define the standalone discriminator model\n",
    "def define_discriminator(n_inputs=1500):\n",
    "    model = Sequential()\n",
    "    model.add(Dense(500, kernel_initializer='he_uniform', input_dim=n_inputs))\n",
    "    model.add(LeakyReLU(alpha=0.2))\n",
    "    model.add(Dense(100))\n",
    "    model.add(LeakyReLU(alpha=0.2))\n",
    "    model.add(Dense(1, activation='sigmoid'))\n",
    "    # compile model\n",
    "    model.compile(loss='binary_crossentropy', optimizer='adam', metrics=['accuracy'])\n",
    "    return model\n",
    "\n",
    "# define the standalone generator model\n",
    "def define_generator(latent_dim, n_outputs=1500):\n",
    "    model = Sequential()\n",
    "    model.add(Dense(500, input_dim=latent_dim))\n",
    "    model.add(LeakyReLU(alpha=0.2))\n",
    "    model.add(Dense(1000))\n",
    "    model.add(LeakyReLU(alpha=0.2))\n",
    "    model.add(Dense(n_outputs))\n",
    "    model.add(LeakyReLU(alpha=0.1))\n",
    "    return model\n",
    "\n",
    "# define the combined generator and discriminator model, for updating the generator\n",
    "def define_gan(generator, discriminator):\n",
    "    # make weights in the discriminator not trainable\n",
    "    discriminator.trainable = False\n",
    "    # connect them\n",
    "    model = Sequential()\n",
    "    # add generator\n",
    "    model.add(generator)\n",
    "    # add the discriminator\n",
    "    model.add(discriminator)\n",
    "    # compile model\n",
    "    model.compile(loss='binary_crossentropy', optimizer='adam')\n",
    "    return model\n",
    "\n",
    "# generate n real samples with class labels\n",
    "def generate_real_samples(n):\n",
    "    x = np.zeros((n,1500))\n",
    "    for i in range(n):\n",
    "        x[i] = np.random.exponential(size=1500) * 100\n",
    "    # generate class labels\n",
    "    y = np.ones((n, 1))\n",
    "    return x, y\n",
    "\n",
    "# generate points in latent space as input for the generator\n",
    "def generate_latent_points(latent_dim, n):\n",
    "    # generate points in the latent space\n",
    "    x_input = randn(latent_dim * n)\n",
    "    # reshape into a batch of inputs for the network\n",
    "    x_input = x_input.reshape(n, latent_dim)\n",
    "    return x_input\n",
    "\n",
    "# use the generator to generate n fake examples, with class labels\n",
    "def generate_fake_samples(generator, latent_dim, n):\n",
    "    # generate points in latent space\n",
    "    x_input = generate_latent_points(latent_dim, n)\n",
    "    # predict outputs\n",
    "    X = generator.predict(x_input)\n",
    "    # create class labels\n",
    "    y = zeros((n, 1))\n",
    "    return X, y\n",
    "\n",
    "# evaluate the discriminator and plot real and fake points\n",
    "def summarize_performance(epoch, generator, discriminator, latent_dim, n=100):\n",
    "    sns.set()\n",
    "    # prepare real samples\n",
    "    x_real, y_real = generate_real_samples(n)\n",
    "    # evaluate discriminator on real examples\n",
    "    _, acc_real = discriminator.evaluate(x_real, y_real, verbose=0)\n",
    "    # prepare fake examples\n",
    "    x_fake, y_fake = generate_fake_samples(generator, latent_dim, n)\n",
    "    # evaluate discriminator on fake examples\n",
    "    _, acc_fake = discriminator.evaluate(x_fake, y_fake, verbose=0)\n",
    "    # summarize discriminator performance\n",
    "    print(epoch, acc_real, acc_fake)\n",
    "    # scatter plot real and fake data points\n",
    "    sns.distplot(x_real[0],color='r')\n",
    "    sns.distplot(x_fake[0],color='b')\n",
    "    file = str(epoch)+'.png'\n",
    "    pyplot.savefig(file)\n",
    "    pyplot.close()\n",
    "\n",
    "def smooth_positive_labels(y):\n",
    "    return y - 0.3 + (random(y.shape) * 0.5)\n",
    "def smooth_negative_labels(y):\n",
    "    return y + 0.3 + (random(y.shape) * 0.3)\n",
    "\n",
    "\n",
    "# train the generator and discriminator\n",
    "def train(g_model, d_model, gan_model, latent_dim, n_epochs=50000, n_batch=5000, n_eval=2000):\n",
    "    # determine half the size of one batch, for updating the discriminator\n",
    "    half_batch = int(n_batch / 2)\n",
    "    # manually enumerate epochs\n",
    "    for i in range(n_epochs):\n",
    "        # prepare real samples\n",
    "        x_real, y_real = generate_real_samples(half_batch)\n",
    "        # prepare fake examples\n",
    "        x_fake, y_fake = generate_fake_samples(g_model, latent_dim, half_batch)\n",
    "        y_real = smooth_positive_labels(y_real)\n",
    "        y_fake = smooth_negative_labels(y_fake)\n",
    "        # update discriminator\n",
    "        d_model.train_on_batch(x_real, y_real)\n",
    "        d_model.train_on_batch(x_fake, y_fake)\n",
    "        # prepare points in latent space as input for the generator\n",
    "        x_gan = generate_latent_points(latent_dim, n_batch)\n",
    "        # create inverted labels for the fake samples\n",
    "        y_gan = ones((n_batch, 1))\n",
    "        y_gan = smooth_positive_labels(y_gan)\n",
    "        # update the generator via the discriminator's error\n",
    "        gan_model.train_on_batch(x_gan, y_gan)\n",
    "        # evaluate the model every n_eval epochs\n",
    "        if (i+1) % n_eval == 0:\n",
    "            summarize_performance(i, g_model, d_model, latent_dim)\n",
    "\n",
    "with tf.device('/device:GPU:1'):\n",
    "\n",
    "    # size of the latent space\n",
    "    latent_dim = 150\n",
    "    # create the discriminator\n",
    "    discriminator = define_discriminator()\n",
    "    # create the generator\n",
    "    generator = define_generator(latent_dim)\n",
    "    # create the gan\n",
    "    gan_model = define_gan(generator, discriminator)\n",
    "    # train model\n",
    "    train(generator, discriminator, gan_model, latent_dim)"
   ]
  },
  {
   "cell_type": "code",
   "execution_count": null,
   "metadata": {},
   "outputs": [],
   "source": [
    "def generate_latent_points(latent_dim, n):\n",
    "    # generate points in the latent space\n",
    "    x_input = randn(latent_dim * n)\n",
    "    # reshape into a batch of inputs for the network\n",
    "    x_input = x_input.reshape(n, latent_dim)\n",
    "    return x_input\n",
    "\n",
    "x=generate_latent_points(100,1)\n",
    "with tf.device('/device:GPU:1'):\n",
    "    generator.predict(x)"
   ]
  },
  {
   "cell_type": "markdown",
   "metadata": {},
   "source": [
    "## From left to right and from top to bottom. "
   ]
  },
  {
   "cell_type": "code",
   "execution_count": 71,
   "metadata": {},
   "outputs": [
    {
     "data": {
      "text/html": [
       "<img style='width: 360px; margin: 5px; float: left; border: 0px solid black;' src='normal/1999.png' /><img style='width: 360px; margin: 5px; float: left; border: 0px solid black;' src='normal/3999.png' /><img style='width: 360px; margin: 5px; float: left; border: 0px solid black;' src='normal/5999.png' /><img style='width: 360px; margin: 5px; float: left; border: 0px solid black;' src='normal/7999.png' /><img style='width: 360px; margin: 5px; float: left; border: 0px solid black;' src='normal/9999.png' /><img style='width: 360px; margin: 5px; float: left; border: 0px solid black;' src='normal/11999.png' /><img style='width: 360px; margin: 5px; float: left; border: 0px solid black;' src='normal/13999.png' /><img style='width: 360px; margin: 5px; float: left; border: 0px solid black;' src='normal/15999.png' /><img style='width: 360px; margin: 5px; float: left; border: 0px solid black;' src='normal/17999.png' /><img style='width: 360px; margin: 5px; float: left; border: 0px solid black;' src='normal/19999.png' /><img style='width: 360px; margin: 5px; float: left; border: 0px solid black;' src='normal/21999.png' /><img style='width: 360px; margin: 5px; float: left; border: 0px solid black;' src='normal/23999.png' /><img style='width: 360px; margin: 5px; float: left; border: 0px solid black;' src='normal/25999.png' /><img style='width: 360px; margin: 5px; float: left; border: 0px solid black;' src='normal/27999.png' /><img style='width: 360px; margin: 5px; float: left; border: 0px solid black;' src='normal/29999.png' /><img style='width: 360px; margin: 5px; float: left; border: 0px solid black;' src='normal/31999.png' /><img style='width: 360px; margin: 5px; float: left; border: 0px solid black;' src='normal/33999.png' /><img style='width: 360px; margin: 5px; float: left; border: 0px solid black;' src='normal/35999.png' /><img style='width: 360px; margin: 5px; float: left; border: 0px solid black;' src='normal/37999.png' /><img style='width: 360px; margin: 5px; float: left; border: 0px solid black;' src='normal/39999.png' /><img style='width: 360px; margin: 5px; float: left; border: 0px solid black;' src='normal/41999.png' /><img style='width: 360px; margin: 5px; float: left; border: 0px solid black;' src='normal/43999.png' /><img style='width: 360px; margin: 5px; float: left; border: 0px solid black;' src='normal/45999.png' /><img style='width: 360px; margin: 5px; float: left; border: 0px solid black;' src='normal/47999.png' /><img style='width: 360px; margin: 5px; float: left; border: 0px solid black;' src='normal/49999.png' />"
      ],
      "text/plain": [
       "<IPython.core.display.HTML object>"
      ]
     },
     "metadata": {},
     "output_type": "display_data"
    }
   ],
   "source": [
    "from IPython.display import Image, HTML, display\n",
    "from glob import glob\n",
    "# li=['normal/2999.png','normal/5999.png','normal/8999.png','normal/11999.png','normal/14999.png','normal/17999.png',\n",
    "#   'normal/20999.png','normal/23999.png','normal/26999.png','normal/29999.png','normal/32999.png','normal/35999.png',\n",
    "#   'normal/38999.png','normal/41999.png','normal/44999.png','normal/47999.png','normal/50999.png','normal/53999.png',\n",
    "#   'normal/56999.png','normal/59999.png']\n",
    "# li=[ '1999.png','3999.png', '5999.png',\n",
    "#  '7999.png',\n",
    "#  '9999.png','11999.png',\n",
    "#  '13999.png',\n",
    "#  '15999.png',\n",
    "#  '17999.png', '19999.png',\n",
    "#  '21999.png',\n",
    "#  '23999.png',\n",
    "#  '25999.png',\n",
    "#  '27999.png',\n",
    "#  '29999.png',\n",
    "#  '31999.png',\n",
    "#  '33999.png',\n",
    "#  '35999.png',\n",
    "#  '37999.png','39999.png',\n",
    "#  '41999.png',\n",
    "#  '43999.png',\n",
    "#  '45999.png',\n",
    "#  '47999.png',\n",
    "#  '49999.png',]\n",
    "imagesList=''.join( [\"<img style='width: 360px; margin: 5px; float: left; border: 0px solid black;' src='%s' />\" % str(s) \n",
    "                     for s in li ])\n",
    "display(HTML(imagesList))"
   ]
  },
  {
   "cell_type": "code",
   "execution_count": 72,
   "metadata": {},
   "outputs": [],
   "source": [
    "li=[ '1999.png','3999.png', '5999.png',\n",
    " '7999.png',\n",
    " '9999.png','11999.png',\n",
    " '13999.png',\n",
    " '15999.png',\n",
    " '17999.png', '19999.png',\n",
    " '21999.png',\n",
    " '23999.png',\n",
    " '25999.png',\n",
    " '27999.png',\n",
    " '29999.png',\n",
    " '31999.png',\n",
    " '33999.png',\n",
    " '35999.png',\n",
    " '37999.png','39999.png',\n",
    " '41999.png',\n",
    " '43999.png',\n",
    " '45999.png',\n",
    " '47999.png',\n",
    " '49999.png',]"
   ]
  },
  {
   "cell_type": "code",
   "execution_count": 73,
   "metadata": {},
   "outputs": [],
   "source": [
    "import os\n",
    "index=0\n",
    "for i in li:\n",
    "    j='normal/'+i\n",
    "    li[index]=j\n",
    "    index+=1"
   ]
  },
  {
   "cell_type": "code",
   "execution_count": 68,
   "metadata": {},
   "outputs": [
    {
     "data": {
      "text/plain": [
       "['1999.png',\n",
       " '3999.png',\n",
       " '5999.png',\n",
       " '7999.png',\n",
       " '9999.png',\n",
       " '11999.png',\n",
       " '13999.png',\n",
       " '15999.png',\n",
       " '17999.png',\n",
       " '19999.png',\n",
       " '21999.png',\n",
       " '23999.png',\n",
       " '25999.png',\n",
       " '27999.png',\n",
       " '29999.png',\n",
       " '31999.png',\n",
       " '33999.png',\n",
       " '35999.png',\n",
       " '37999.png',\n",
       " '39999.png',\n",
       " '41999.png',\n",
       " '43999.png',\n",
       " '45999.png',\n",
       " '47999.png',\n",
       " '49999.png']"
      ]
     },
     "execution_count": 68,
     "metadata": {},
     "output_type": "execute_result"
    }
   ],
   "source": [
    "li"
   ]
  }
 ],
 "metadata": {
  "kernelspec": {
   "display_name": "Python 3",
   "language": "python",
   "name": "python3"
  },
  "language_info": {
   "codemirror_mode": {
    "name": "ipython",
    "version": 3
   },
   "file_extension": ".py",
   "mimetype": "text/x-python",
   "name": "python",
   "nbconvert_exporter": "python",
   "pygments_lexer": "ipython3",
   "version": "3.6.9"
  }
 },
 "nbformat": 4,
 "nbformat_minor": 4
}

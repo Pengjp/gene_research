{
 "cells": [
  {
   "cell_type": "code",
   "execution_count": 1,
   "metadata": {},
   "outputs": [],
   "source": [
    "import tensorflow as tf\n",
    "from tf_poly import TfPoly\n",
    "import numpy as np"
   ]
  },
  {
   "cell_type": "code",
   "execution_count": 2,
   "metadata": {},
   "outputs": [],
   "source": [
    "def runif():\n",
    "    return tf.random.uniform([1], dtype=tf.float64)[0]\n",
    "\n",
    "def rexp():\n",
    "    return -tf.math.log(runif())\n",
    "\n",
    "@tf.function\n",
    "def gen_gaps(k: int, eta_x: tf.Tensor, eta_c: tf.Tensor, \n",
    "             theta=tf.constant(1e-4, dtype=tf.float64), \n",
    "             rho=tf.constant(1e-5, dtype=tf.float64)) -> tf.Tensor:\n",
    "    '''Return k gaps sampled from genetic distribution with rate function eta.'''\n",
    "    eta = TfPoly(x=eta_x, c=eta_c)\n",
    "    R = eta.antiderivative()\n",
    "    Rinv = R.inverse()\n",
    "    x = Rinv(rexp())  # initialize x by sampling from prior\n",
    "    pos = tf.constant(0., dtype=tf.float64)\n",
    "    j = 0\n",
    "    ta = tf.TensorArray(tf.float64, size=k + 2)\n",
    "    while tf.less(j, k + 2):\n",
    "        # x' satisfies R(x') - R(u*x) = Z => x' = Rinv(Z + R(u*x))\n",
    "        u = runif()\n",
    "        z = rexp()\n",
    "        x = Rinv(z + R(u * x))  # segment height\n",
    "        pos += rexp() / (x * (theta + rho))  # length to next event\n",
    "        while runif() < (theta / (theta + rho)) and tf.less(j, k + 2):\n",
    "            ta = ta.write(j, pos)\n",
    "            j += 1\n",
    "            pos += rexp() / (x * (theta + rho))  # length to next event\n",
    "    ret = ta.stack()[1:]  # first obs suffers from inspection paradox?\n",
    "    return ret[1:] - ret[:-1]"
   ]
  },
  {
   "cell_type": "code",
   "execution_count": 3,
   "metadata": {},
   "outputs": [
    {
     "data": {
      "text/plain": [
       "<tf.Tensor: shape=(2,), dtype=float64, numpy=array([7410.32566992, 5633.62401524])>"
      ]
     },
     "execution_count": 3,
     "metadata": {},
     "output_type": "execute_result"
    }
   ],
   "source": [
    "eta = TfPoly(x=[0., 1., 2., np.inf], c=[[2., 2., 3.]])\n",
    "gen_gaps(2, eta.x, eta.c)"
   ]
  },
  {
   "cell_type": "markdown",
   "metadata": {},
   "source": [
    "Check that $\\mathbb{E}\\nabla f(x) \\approx \\nabla \\mathbb{E} f(x)$:"
   ]
  },
  {
   "cell_type": "code",
   "execution_count": 4,
   "metadata": {},
   "outputs": [],
   "source": [
    "@tf.function\n",
    "def grad_f(c1):\n",
    "    c1 = tf.convert_to_tensor(c1)\n",
    "    with tf.GradientTape() as tape:\n",
    "        tape.watch(c1)\n",
    "        eta = TfPoly(x=[0., 1., 2., np.inf], c=[[1., c1, 3.]])\n",
    "        y = gen_gaps(2, eta.x, eta.c)[0]\n",
    "    return tape.gradient(y, c1)"
   ]
  },
  {
   "cell_type": "code",
   "execution_count": 5,
   "metadata": {},
   "outputs": [
    {
     "data": {
      "text/plain": [
       "703.3912"
      ]
     },
     "execution_count": 5,
     "metadata": {},
     "output_type": "execute_result"
    }
   ],
   "source": [
    "K = 1000\n",
    "np.mean([grad_f(2.) for _ in range(K)])"
   ]
  },
  {
   "cell_type": "code",
   "execution_count": 6,
   "metadata": {},
   "outputs": [
    {
     "name": "stdout",
     "output_type": "stream",
     "text": [
      "tf.Tensor(644.165, shape=(), dtype=float32)\n"
     ]
    }
   ],
   "source": [
    "grads = []\n",
    "c1 = tf.constant(2.0)\n",
    "with tf.GradientTape() as tape:  # slow; graph grows with iteration count.\n",
    "    tape.watch(c1)\n",
    "    eta = TfPoly(x=[0., 1., 2., np.inf], c=[[1., c1, 3.]])\n",
    "    _, ta = tf.while_loop(\n",
    "        cond=lambda i, ta: i < K,\n",
    "        body=lambda i, ta: (i + 1, ta.write(i, gen_gaps(2, eta.x, eta.c)[0])),\n",
    "        loop_vars=(tf.constant(0), tf.TensorArray(size=K, dtype=tf.float64))\n",
    "    )\n",
    "    y = tf.reduce_mean(ta.stack())\n",
    "print(tape.gradient(y, c1))"
   ]
  },
  {
   "cell_type": "markdown",
   "metadata": {
    "slideshow": {
     "slide_type": "slide"
    }
   },
   "source": [
    "It's close enough."
   ]
  },
  {
   "cell_type": "markdown",
   "metadata": {},
   "source": [
    "## How to use this function\n",
    "Our parameter vector is `eta.c`. Goal is to use GAN to learn correct distribution of gaps generated for a particular choice of `c`. *Hope* is that the learned parameter vector matches original parameter vector. Example:"
   ]
  },
  {
   "cell_type": "code",
   "execution_count": 11,
   "metadata": {},
   "outputs": [],
   "source": [
    "def generator(c):\n",
    "    'Generate 10 gaps from distribution induced by c'\n",
    "    eta = TfPoly(x=[0., 1., np.inf], c=[c])\n",
    "    return gen_gaps(10, eta.x, eta.c)\n",
    "\n",
    "training_data = [generator([5., 1.]) for _ in  range(1000)]\n",
    "\n",
    "# use GAN to learn distribution; hope that embedding distribution concentrates on c=[5,1]."
   ]
  }
 ],
 "metadata": {
  "kernelspec": {
   "display_name": "Python 3",
   "language": "python",
   "name": "python3"
  },
  "language_info": {
   "codemirror_mode": {
    "name": "ipython",
    "version": 3
   },
   "file_extension": ".py",
   "mimetype": "text/x-python",
   "name": "python",
   "nbconvert_exporter": "python",
   "pygments_lexer": "ipython3",
   "version": "3.7.6"
  }
 },
 "nbformat": 4,
 "nbformat_minor": 2
}

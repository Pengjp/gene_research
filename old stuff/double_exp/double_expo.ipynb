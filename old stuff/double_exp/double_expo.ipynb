{
 "cells": [
  {
   "cell_type": "markdown",
   "metadata": {},
   "source": [
    "## Gan for double exponential"
   ]
  },
  {
   "cell_type": "code",
   "execution_count": 2,
   "metadata": {},
   "outputs": [],
   "source": [
    "'''\n",
    "Generate Dataset. It looks like: 1/100 * exp(1), 100 * exp(1),.....\n",
    "\n",
    "I transformed the data by applying log transformation and then divided by -15 to make fall into a small range\n",
    "'''\n",
    "import numpy as np\n",
    "dataset = np.zeros(shape=(5000,500))\n",
    "for j in range(0,5000):\n",
    "    for i in range(0,500):\n",
    "        if i % 2 == 1:\n",
    "            dataset[j][i] = np.log(100 * np.random.exponential()) / -15\n",
    "        else:\n",
    "            dataset[j][i] = np.log(1/100 * np.random.exponential()) / -15"
   ]
  },
  {
   "cell_type": "markdown",
   "metadata": {},
   "source": [
    "### Below is the plot after transforming "
   ]
  },
  {
   "cell_type": "code",
   "execution_count": 39,
   "metadata": {},
   "outputs": [
    {
     "data": {
      "text/plain": [
       "Text(0.5, 1.0, 'Ture distribution after transformation')"
      ]
     },
     "execution_count": 39,
     "metadata": {},
     "output_type": "execute_result"
    },
    {
     "data": {
      "image/png": "[encoded data removed]",
      "text/plain": [
       "<Figure size 432x288 with 1 Axes>"
      ]
     },
     "metadata": {},
     "output_type": "display_data"
    }
   ],
   "source": [
    "import seaborn as sns\n",
    "sns.distplot(dataset,color='r').set_title(\"Ture distribution after transformation\")\n",
    "# summarize discriminator performance\n",
    "# print(epoch, \"real acc.\",acc_real, \"fake acc\", acc_fake,'kl divergence',kl_diff)"
   ]
  },
  {
   "cell_type": "code",
   "execution_count": 38,
   "metadata": {},
   "outputs": [
    {
     "name": "stdout",
     "output_type": "stream",
     "text": [
      "Number of training examples: 5000\n",
      "Each training example has length of: 500\n"
     ]
    }
   ],
   "source": [
    "print(\"Number of training examples:\",5000)\n",
    "print(\"Each training example has length of:\",500)"
   ]
  },
  {
   "cell_type": "code",
   "execution_count": 20,
   "metadata": {
    "collapsed": true
   },
   "outputs": [
    {
     "name": "stderr",
     "output_type": "stream",
     "text": [
      "/usr/local/lib/python3.6/dist-packages/keras/engine/training.py:297: UserWarning: Discrepancy between trainable weights and collected trainable weights, did you set `model.trainable` without calling `model.compile` after ?\n",
      "  'Discrepancy between trainable weights and collected trainable'\n"
     ]
    },
    {
     "name": "stdout",
     "output_type": "stream",
     "text": [
      "499 1.0 0.0\n",
      "D loss 1.243766 G loss 0.45217833\n"
     ]
    },
    {
     "name": "stderr",
     "output_type": "stream",
     "text": [
      "/usr/local/lib/python3.6/dist-packages/keras/engine/training.py:297: UserWarning: Discrepancy between trainable weights and collected trainable weights, did you set `model.trainable` without calling `model.compile` after ?\n",
      "  'Discrepancy between trainable weights and collected trainable'\n"
     ]
    },
    {
     "name": "stdout",
     "output_type": "stream",
     "text": [
      "999 1.0 0.0\n",
      "D loss 1.2085061 G loss 0.39968196\n"
     ]
    },
    {
     "name": "stderr",
     "output_type": "stream",
     "text": [
      "/usr/local/lib/python3.6/dist-packages/keras/engine/training.py:297: UserWarning: Discrepancy between trainable weights and collected trainable weights, did you set `model.trainable` without calling `model.compile` after ?\n",
      "  'Discrepancy between trainable weights and collected trainable'\n"
     ]
    },
    {
     "name": "stdout",
     "output_type": "stream",
     "text": [
      "1499 1.0 0.0\n",
      "D loss 1.2088304 G loss 0.4275194\n"
     ]
    },
    {
     "name": "stderr",
     "output_type": "stream",
     "text": [
      "/usr/local/lib/python3.6/dist-packages/keras/engine/training.py:297: UserWarning: Discrepancy between trainable weights and collected trainable weights, did you set `model.trainable` without calling `model.compile` after ?\n",
      "  'Discrepancy between trainable weights and collected trainable'\n"
     ]
    },
    {
     "name": "stdout",
     "output_type": "stream",
     "text": [
      "1999 1.0 0.0\n",
      "D loss 1.2230814 G loss 0.42192227\n"
     ]
    },
    {
     "name": "stderr",
     "output_type": "stream",
     "text": [
      "/usr/local/lib/python3.6/dist-packages/keras/engine/training.py:297: UserWarning: Discrepancy between trainable weights and collected trainable weights, did you set `model.trainable` without calling `model.compile` after ?\n",
      "  'Discrepancy between trainable weights and collected trainable'\n"
     ]
    },
    {
     "name": "stdout",
     "output_type": "stream",
     "text": [
      "2499 1.0 0.0\n",
      "D loss 1.2298998 G loss 0.43946815\n"
     ]
    },
    {
     "name": "stderr",
     "output_type": "stream",
     "text": [
      "/usr/local/lib/python3.6/dist-packages/keras/engine/training.py:297: UserWarning: Discrepancy between trainable weights and collected trainable weights, did you set `model.trainable` without calling `model.compile` after ?\n",
      "  'Discrepancy between trainable weights and collected trainable'\n"
     ]
    },
    {
     "name": "stdout",
     "output_type": "stream",
     "text": [
      "2999 1.0 0.0\n",
      "D loss 1.2326567 G loss 0.42281434\n"
     ]
    },
    {
     "name": "stderr",
     "output_type": "stream",
     "text": [
      "/usr/local/lib/python3.6/dist-packages/keras/engine/training.py:297: UserWarning: Discrepancy between trainable weights and collected trainable weights, did you set `model.trainable` without calling `model.compile` after ?\n",
      "  'Discrepancy between trainable weights and collected trainable'\n"
     ]
    },
    {
     "name": "stdout",
     "output_type": "stream",
     "text": [
      "3499 1.0 0.0\n",
      "D loss 1.2277524 G loss 0.4262532\n"
     ]
    },
    {
     "name": "stderr",
     "output_type": "stream",
     "text": [
      "/usr/local/lib/python3.6/dist-packages/keras/engine/training.py:297: UserWarning: Discrepancy between trainable weights and collected trainable weights, did you set `model.trainable` without calling `model.compile` after ?\n",
      "  'Discrepancy between trainable weights and collected trainable'\n"
     ]
    },
    {
     "name": "stdout",
     "output_type": "stream",
     "text": [
      "3999 1.0 0.0\n",
      "D loss 1.2536342 G loss 0.4406759\n"
     ]
    },
    {
     "name": "stderr",
     "output_type": "stream",
     "text": [
      "/usr/local/lib/python3.6/dist-packages/keras/engine/training.py:297: UserWarning: Discrepancy between trainable weights and collected trainable weights, did you set `model.trainable` without calling `model.compile` after ?\n",
      "  'Discrepancy between trainable weights and collected trainable'\n"
     ]
    },
    {
     "name": "stdout",
     "output_type": "stream",
     "text": [
      "4499 1.0 0.019999999552965164\n",
      "D loss 1.197782 G loss 0.46277928\n"
     ]
    },
    {
     "name": "stderr",
     "output_type": "stream",
     "text": [
      "/usr/local/lib/python3.6/dist-packages/keras/engine/training.py:297: UserWarning: Discrepancy between trainable weights and collected trainable weights, did you set `model.trainable` without calling `model.compile` after ?\n",
      "  'Discrepancy between trainable weights and collected trainable'\n"
     ]
    },
    {
     "name": "stdout",
     "output_type": "stream",
     "text": [
      "4999 1.0 0.019999999552965164\n",
      "D loss 1.2040931 G loss 0.473374\n"
     ]
    },
    {
     "name": "stderr",
     "output_type": "stream",
     "text": [
      "/usr/local/lib/python3.6/dist-packages/keras/engine/training.py:297: UserWarning: Discrepancy between trainable weights and collected trainable weights, did you set `model.trainable` without calling `model.compile` after ?\n",
      "  'Discrepancy between trainable weights and collected trainable'\n"
     ]
    },
    {
     "name": "stdout",
     "output_type": "stream",
     "text": [
      "5499 1.0 0.03999999910593033\n",
      "D loss 1.1474203 G loss 0.5116054\n"
     ]
    },
    {
     "name": "stderr",
     "output_type": "stream",
     "text": [
      "/usr/local/lib/python3.6/dist-packages/keras/engine/training.py:297: UserWarning: Discrepancy between trainable weights and collected trainable weights, did you set `model.trainable` without calling `model.compile` after ?\n",
      "  'Discrepancy between trainable weights and collected trainable'\n"
     ]
    },
    {
     "name": "stdout",
     "output_type": "stream",
     "text": [
      "5999 1.0 0.10000000149011612\n",
      "D loss 1.1138744 G loss 0.5452545\n"
     ]
    },
    {
     "name": "stderr",
     "output_type": "stream",
     "text": [
      "/usr/local/lib/python3.6/dist-packages/keras/engine/training.py:297: UserWarning: Discrepancy between trainable weights and collected trainable weights, did you set `model.trainable` without calling `model.compile` after ?\n",
      "  'Discrepancy between trainable weights and collected trainable'\n"
     ]
    },
    {
     "name": "stdout",
     "output_type": "stream",
     "text": [
      "6499 0.9900000095367432 0.14000000059604645\n",
      "D loss 1.1140325 G loss 0.59626603\n"
     ]
    },
    {
     "name": "stderr",
     "output_type": "stream",
     "text": [
      "/usr/local/lib/python3.6/dist-packages/keras/engine/training.py:297: UserWarning: Discrepancy between trainable weights and collected trainable weights, did you set `model.trainable` without calling `model.compile` after ?\n",
      "  'Discrepancy between trainable weights and collected trainable'\n"
     ]
    },
    {
     "name": "stdout",
     "output_type": "stream",
     "text": [
      "6999 0.9599999785423279 0.2800000011920929\n",
      "D loss 1.0966914 G loss 0.61887133\n"
     ]
    },
    {
     "name": "stderr",
     "output_type": "stream",
     "text": [
      "/usr/local/lib/python3.6/dist-packages/keras/engine/training.py:297: UserWarning: Discrepancy between trainable weights and collected trainable weights, did you set `model.trainable` without calling `model.compile` after ?\n",
      "  'Discrepancy between trainable weights and collected trainable'\n"
     ]
    },
    {
     "name": "stdout",
     "output_type": "stream",
     "text": [
      "7499 0.9900000095367432 0.2800000011920929\n",
      "D loss 1.1133491 G loss 0.618815\n"
     ]
    },
    {
     "name": "stderr",
     "output_type": "stream",
     "text": [
      "/usr/local/lib/python3.6/dist-packages/keras/engine/training.py:297: UserWarning: Discrepancy between trainable weights and collected trainable weights, did you set `model.trainable` without calling `model.compile` after ?\n",
      "  'Discrepancy between trainable weights and collected trainable'\n"
     ]
    },
    {
     "name": "stdout",
     "output_type": "stream",
     "text": [
      "7999 0.9900000095367432 0.1899999976158142\n",
      "D loss 1.1403233 G loss 0.6209363\n"
     ]
    },
    {
     "name": "stderr",
     "output_type": "stream",
     "text": [
      "/usr/local/lib/python3.6/dist-packages/keras/engine/training.py:297: UserWarning: Discrepancy between trainable weights and collected trainable weights, did you set `model.trainable` without calling `model.compile` after ?\n",
      "  'Discrepancy between trainable weights and collected trainable'\n"
     ]
    },
    {
     "name": "stdout",
     "output_type": "stream",
     "text": [
      "8499 1.0 0.25\n",
      "D loss 1.1750405 G loss 0.63376343\n"
     ]
    },
    {
     "name": "stderr",
     "output_type": "stream",
     "text": [
      "/usr/local/lib/python3.6/dist-packages/keras/engine/training.py:297: UserWarning: Discrepancy between trainable weights and collected trainable weights, did you set `model.trainable` without calling `model.compile` after ?\n",
      "  'Discrepancy between trainable weights and collected trainable'\n"
     ]
    },
    {
     "name": "stdout",
     "output_type": "stream",
     "text": [
      "8999 0.9900000095367432 0.25999999046325684\n",
      "D loss 1.1503708 G loss 0.65839785\n"
     ]
    },
    {
     "name": "stderr",
     "output_type": "stream",
     "text": [
      "/usr/local/lib/python3.6/dist-packages/keras/engine/training.py:297: UserWarning: Discrepancy between trainable weights and collected trainable weights, did you set `model.trainable` without calling `model.compile` after ?\n",
      "  'Discrepancy between trainable weights and collected trainable'\n"
     ]
    },
    {
     "name": "stdout",
     "output_type": "stream",
     "text": [
      "9499 1.0 0.28999999165534973\n",
      "D loss 1.1722077 G loss 0.6177686\n"
     ]
    },
    {
     "name": "stderr",
     "output_type": "stream",
     "text": [
      "/usr/local/lib/python3.6/dist-packages/keras/engine/training.py:297: UserWarning: Discrepancy between trainable weights and collected trainable weights, did you set `model.trainable` without calling `model.compile` after ?\n",
      "  'Discrepancy between trainable weights and collected trainable'\n"
     ]
    },
    {
     "name": "stdout",
     "output_type": "stream",
     "text": [
      "9999 0.9900000095367432 0.33000001311302185\n",
      "D loss 1.0857037 G loss 0.67716694\n"
     ]
    }
   ],
   "source": [
    "import seaborn as sns, numpy as np\n",
    "from numpy import hstack\n",
    "from numpy import zeros\n",
    "from numpy import ones\n",
    "from numpy.random import rand,randint\n",
    "from numpy.random import randn, exponential\n",
    "from keras.models import Sequential\n",
    "from keras.layers import Dense, LeakyReLU, BatchNormalization\n",
    "from matplotlib import pyplot\n",
    "from keras import optimizers\n",
    "import tensorflow as tf\n",
    "from numpy.random import random, choice\n",
    "real_acc=[[],[]]\n",
    "fake_acc=[[],[]]\n",
    "g_loss=[[],[]]\n",
    "d_loss=[[],[]]\n",
    "# define the standalone discriminator model\n",
    "def define_discriminator(n_inputs=500):\n",
    "    model = Sequential()\n",
    "    model.add(Dense(300, kernel_initializer='he_uniform', input_dim=n_inputs))\n",
    "    model.add(LeakyReLU(alpha=0.2))\n",
    "    model.add(Dense(100))\n",
    "    model.add(LeakyReLU(alpha=0.2))\n",
    "    model.add(Dense(50))\n",
    "    model.add(LeakyReLU(alpha=0.2))\n",
    "    model.add(Dense(1, activation='sigmoid'))\n",
    "    # compile model\n",
    "    opt = optimizers.RMSprop(lr=0.0008, decay=1e-10)\n",
    "    model.compile(loss='binary_crossentropy', optimizer=opt, metrics=['accuracy'])\n",
    "    return model\n",
    "\n",
    "# define the standalone generator model\n",
    "def define_generator(latent_dim, n_outputs=500):\n",
    "    model = Sequential()\n",
    "    model.add(Dense(100, input_dim=latent_dim))\n",
    "    model.add(LeakyReLU(alpha=0.2))\n",
    "    model.add(Dense(300))\n",
    "    model.add(LeakyReLU(alpha=0.2))\n",
    "    model.add(Dense(300))\n",
    "    model.add(LeakyReLU(alpha=0.15))\n",
    "    model.add(Dense(n_outputs))\n",
    "    model.add(LeakyReLU(alpha=0.1))\n",
    "    return model\n",
    "\n",
    "# define the combined generator and discriminator model, for updating the generator\n",
    "def define_gan(generator, discriminator):\n",
    "    # make weights in the discriminator not trainable\n",
    "    discriminator.trainable = False\n",
    "    # connect them\n",
    "    model = Sequential()\n",
    "    # add generator\n",
    "    model.add(generator)\n",
    "    # add the discriminator\n",
    "    model.add(discriminator)\n",
    "    # compile model\n",
    "    opt = optimizers.Adam(lr=0.0004, decay=1e-10)\n",
    "    model.compile(loss='binary_crossentropy', optimizer=opt)\n",
    "    return model\n",
    "\n",
    "# generate n real samples with class labels\n",
    "def generate_real_samples(dataset, n_samples):\n",
    "    ix = randint(0, dataset.shape[0],n_samples)\n",
    "    x = dataset[ix]\n",
    "    y=ones((n_samples,1))\n",
    "    return x, y\n",
    "\n",
    "# generate points in latent space as input for the generator\n",
    "def generate_latent_points(latent_dim, n):\n",
    "    # generate points in the latent space\n",
    "    x_input = randn(latent_dim * n)\n",
    "    # reshape into a batch of inputs for the network\n",
    "    x_input = x_input.reshape(n, latent_dim)\n",
    "    return x_input\n",
    "\n",
    "# use the generator to generate n fake examples, with class labels\n",
    "def generate_fake_samples(generator, latent_dim, n):\n",
    "    # generate points in latent space\n",
    "    x_input = generate_latent_points(latent_dim, n)\n",
    "    # predict outputs\n",
    "    X = generator.predict(x_input)\n",
    "    # create class labels\n",
    "    y = zeros((n, 1))\n",
    "    return X, y\n",
    "\n",
    "# evaluate the discriminator and plot real and fake points\n",
    "def summarize_performance(epoch, generator, discriminator, latent_dim, n=100):\n",
    "    sns.set()\n",
    "    # prepare real samples\n",
    "    x_real, y_real = generate_real_samples(dataset,n)\n",
    "    # evaluate discriminator on real examples\n",
    "    _, acc_real = discriminator.evaluate(x_real, y_real, verbose=0)\n",
    "    # prepare fake examples\n",
    "    x_fake, y_fake = generate_fake_samples(generator, latent_dim, n)\n",
    "    # evaluate discriminator on fake examples\n",
    "    _, acc_fake = discriminator.evaluate(x_fake, y_fake, verbose=0)\n",
    "    # summarize discriminator performance\n",
    "    print(epoch, acc_real, acc_fake)\n",
    "    real_acc[1].append(acc_real)\n",
    "    real_acc[0].append(epoch)\n",
    "    fake_acc[1].append(acc_fake)\n",
    "    fake_acc[0].append(epoch)\n",
    "    # scatter plot real and fake data points\n",
    "    sns.distplot(x_real,color='r')\n",
    "    sns.distplot(x_fake[:,1::2],color='b')\n",
    "    sns.distplot(x_fake[:,::2],color='y').set_title(\"Epoch:\"+str(epoch))\n",
    "    file = str(epoch)+'.png'\n",
    "    pyplot.savefig(file)\n",
    "    pyplot.close()\n",
    "\n",
    "def smooth_positive_labels(y):\n",
    "    return y - 0.3 + (random(y.shape) * 0.5)\n",
    "def smooth_negative_labels(y):\n",
    "    return y + 0.3 + (random(y.shape) * 0.3)\n",
    "\n",
    "\n",
    "# train the generator and discriminator\n",
    "def train(g_model, d_model, gan_model, latent_dim, n_epochs=10000, n_batch=256, n_eval=500):\n",
    "    # determine half the size of one batch, for updating the discriminator\n",
    "    bat_per_eop = int(dataset.shape[0] / n_batch)\n",
    "    half_batch = int(n_batch / 2)\n",
    "    # manually enumerate epochs\n",
    "    for i in range(n_epochs):\n",
    "        for j in range(bat_per_eop):\n",
    "            # prepare real samples\n",
    "            x_real, y_real = generate_real_samples(dataset,half_batch)\n",
    "            # prepare fake examples\n",
    "            x_fake, y_fake = generate_fake_samples(g_model, latent_dim, half_batch)\n",
    "            y_real = smooth_positive_labels(y_real)\n",
    "            y_fake = smooth_negative_labels(y_fake)\n",
    "            # update discriminator\n",
    "            loss_1=d_model.train_on_batch(x_real, y_real)\n",
    "            loss_2=d_model.train_on_batch(x_fake, y_fake)\n",
    "            # prepare points in latent space as input for the generator\n",
    "            x_gan = generate_latent_points(latent_dim, n_batch)\n",
    "            # create inverted labels for the fake samples\n",
    "            y_gan = ones((n_batch, 1))\n",
    "            y_gan = smooth_positive_labels(y_gan)\n",
    "            # update the generator via the discriminator's error\n",
    "            loss_3=gan_model.train_on_batch(x_gan, y_gan)\n",
    "            d_loss.append(loss_1[0]+loss_2[0])\n",
    "            g_loss.append(loss_3)\n",
    "            # evaluate the model every n_eval epochs\n",
    "        if (i+1) % n_eval == 0:\n",
    "            summarize_performance(i, g_model, d_model, latent_dim)\n",
    "            d_loss[1].append(loss_1[0]+loss_2[0])\n",
    "            g_loss[1].append(loss_3)\n",
    "            d_loss[0].append(i+1)\n",
    "            g_loss[0].append(i+1)\n",
    "            print(\"D loss\",loss_1[0]+loss_2[0],\"G loss\",loss_3)\n",
    "\n",
    "with tf.device('/device:GPU:3'):\n",
    "\n",
    "    # size of the latent space\n",
    "    latent_dim = 100\n",
    "    # create the discriminator\n",
    "    discriminator = define_discriminator()\n",
    "    # create the generator\n",
    "    generator = define_generator(latent_dim)\n",
    "    # create the gan\n",
    "    gan_model = define_gan(generator, discriminator)\n",
    "    # train model\n",
    "    train(generator, discriminator, gan_model, latent_dim)"
   ]
  },
  {
   "cell_type": "code",
   "execution_count": 36,
   "metadata": {},
   "outputs": [
    {
     "data": {
      "text/plain": [
       "<matplotlib.legend.Legend at 0x7f03e8c104e0>"
      ]
     },
     "execution_count": 36,
     "metadata": {},
     "output_type": "execute_result"
    },
    {
     "data": {
      "image/png": "[encoded data removed]",
      "text/plain": [
       "<Figure size 648x216 with 2 Axes>"
      ]
     },
     "metadata": {},
     "output_type": "display_data"
    }
   ],
   "source": [
    "import matplotlib.pyplot as plt\n",
    "plt.figure(figsize=(9,3))\n",
    "plt.subplot(121)\n",
    "plt.title(\"Real V.S. Fake Accuracy\")\n",
    "line_down, =plt.plot(fake_acc[0],fake_acc[1],color='r',label=\"fake acc\")\n",
    "line_up, =plt.plot(real_acc[0],real_acc[1],color='b',label=\"real acc\")\n",
    "plt.legend(handles=[line_up, line_down])\n",
    "plt.subplot(122)\n",
    "plt.title(\"G LOSS V.S. D LOSS\")\n",
    "line_down, =plt.plot(g_loss[0],g_loss[1],color='r',label=\"G LOSS\")\n",
    "line_up, =plt.plot(d_loss[0],d_loss[1],color='b',label=\"D LOSS\")\n",
    "plt.legend(handles=[line_up, line_down])\n",
    "# sns.distplot(dataset[:,::2],color='b')"
   ]
  },
  {
   "cell_type": "markdown",
   "metadata": {},
   "source": [
    "## Some outputs during training"
   ]
  },
  {
   "cell_type": "code",
   "execution_count": 9,
   "metadata": {},
   "outputs": [
    {
     "data": {
      "text/html": [
       "<img style='width: 240px; margin: 5px; float: left; border: 0px solid black;' src='plots/499.png' /><img style='width: 240px; margin: 5px; float: left; border: 0px solid black;' src='plots/999.png' /><img style='width: 240px; margin: 5px; float: left; border: 0px solid black;' src='plots/1499.png' /><img style='width: 240px; margin: 5px; float: left; border: 0px solid black;' src='plots/1999.png' /><img style='width: 240px; margin: 5px; float: left; border: 0px solid black;' src='plots/2499.png' /><img style='width: 240px; margin: 5px; float: left; border: 0px solid black;' src='plots/2999.png' /><img style='width: 240px; margin: 5px; float: left; border: 0px solid black;' src='plots/3499.png' /><img style='width: 240px; margin: 5px; float: left; border: 0px solid black;' src='plots/3999.png' /><img style='width: 240px; margin: 5px; float: left; border: 0px solid black;' src='plots/4499.png' /><img style='width: 240px; margin: 5px; float: left; border: 0px solid black;' src='plots/4999.png' /><img style='width: 240px; margin: 5px; float: left; border: 0px solid black;' src='plots/5499.png' /><img style='width: 240px; margin: 5px; float: left; border: 0px solid black;' src='plots/5999.png' /><img style='width: 240px; margin: 5px; float: left; border: 0px solid black;' src='plots/6499.png' /><img style='width: 240px; margin: 5px; float: left; border: 0px solid black;' src='plots/6999.png' /><img style='width: 240px; margin: 5px; float: left; border: 0px solid black;' src='plots/7499.png' /><img style='width: 240px; margin: 5px; float: left; border: 0px solid black;' src='plots/7999.png' /><img style='width: 240px; margin: 5px; float: left; border: 0px solid black;' src='plots/8499.png' /><img style='width: 240px; margin: 5px; float: left; border: 0px solid black;' src='plots/8999.png' /><img style='width: 240px; margin: 5px; float: left; border: 0px solid black;' src='plots/9499.png' /><img style='width: 240px; margin: 5px; float: left; border: 0px solid black;' src='plots/9999.png' />"
      ],
      "text/plain": [
       "<IPython.core.display.HTML object>"
      ]
     },
     "metadata": {},
     "output_type": "display_data"
    }
   ],
   "source": [
    "from IPython.display import Image, HTML, display\n",
    "from glob import glob\n",
    "li=['plots/499.png','plots/999.png','plots/1499.png', 'plots/1999.png', 'plots/2499.png', 'plots/2999.png', 'plots/3499.png', 'plots/3999.png', 'plots/4499.png',\n",
    "   'plots/4999.png', 'plots/5499.png', 'plots/5999.png', 'plots/6499.png', 'plots/6999.png', 'plots/7499.png', 'plots/7999.png', 'plots/8499.png', 'plots/8999.png', 'plots/9499.png',\n",
    "   'plots/9999.png']\n",
    "imagesList=''.join( [\"<img style='width: 240px; margin: 5px; float: left; border: 0px solid black;' src='%s' />\" % str(s) \n",
    "                     for s in li ])\n",
    "display(HTML(imagesList))"
   ]
  }
 ],
 "metadata": {
  "kernelspec": {
   "display_name": "Python 3",
   "language": "python",
   "name": "python3"
  },
  "language_info": {
   "codemirror_mode": {
    "name": "ipython",
    "version": 3
   },
   "file_extension": ".py",
   "mimetype": "text/x-python",
   "name": "python",
   "nbconvert_exporter": "python",
   "pygments_lexer": "ipython3",
   "version": "3.7.2"
  }
 },
 "nbformat": 4,
 "nbformat_minor": 4
}
